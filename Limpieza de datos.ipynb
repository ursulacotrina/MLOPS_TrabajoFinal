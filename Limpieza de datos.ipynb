{
 "cells": [
  {
   "cell_type": "markdown",
   "metadata": {
    "application/vnd.databricks.v1+cell": {
     "cellMetadata": {
      "byteLimit": 2048000,
      "rowLimit": 10000
     },
     "inputWidgets": {},
     "nuid": "398a4d23-8e16-46a6-8010-4ac5390ac5ed",
     "showTitle": false,
     "tableResultSettingsMap": {},
     "title": ""
    }
   },
   "source": [
    "## 00 Creación de tabla de exportación"
   ]
  },
  {
   "cell_type": "code",
   "execution_count": 0,
   "metadata": {
    "application/vnd.databricks.v1+cell": {
     "cellMetadata": {
      "byteLimit": 2048000,
      "implicitDf": true,
      "rowLimit": 10000
     },
     "inputWidgets": {},
     "nuid": "231e8879-7280-4e14-8b61-053a9f1596fe",
     "showTitle": false,
     "tableResultSettingsMap": {},
     "title": ""
    }
   },
   "outputs": [
    {
     "output_type": "display_data",
     "data": {
      "text/html": [
       "<style scoped>\n",
       "  .table-result-container {\n",
       "    max-height: 300px;\n",
       "    overflow: auto;\n",
       "  }\n",
       "  table, th, td {\n",
       "    border: 1px solid black;\n",
       "    border-collapse: collapse;\n",
       "  }\n",
       "  th, td {\n",
       "    padding: 5px;\n",
       "  }\n",
       "  th {\n",
       "    text-align: left;\n",
       "  }\n",
       "</style><div class='table-result-container'><table class='table-result'><thead style='background-color: white'><tr></tr></thead><tbody></tbody></table></div>"
      ]
     },
     "metadata": {
      "application/vnd.databricks.v1+output": {
       "addedWidgets": {},
       "aggData": [],
       "aggError": "",
       "aggOverflow": false,
       "aggSchema": [],
       "aggSeriesLimitReached": false,
       "aggType": "",
       "arguments": {},
       "columnCustomDisplayInfos": {},
       "data": [],
       "datasetInfos": [],
       "dbfsResultPath": null,
       "isJsonSchema": true,
       "metadata": {
        "dataframeName": null
       },
       "overflow": false,
       "plotOptions": {
        "customPlotOptions": {},
        "displayType": "table",
        "pivotAggregation": null,
        "pivotColumns": null,
        "xColumns": null,
        "yColumns": null
       },
       "removedWidgets": [],
       "schema": [],
       "type": "table"
      }
     },
     "output_type": "display_data"
    }
   ],
   "source": [
    "%sql\n",
    "CREATE TABLE databricks_clase.prueba_schema.clientes_campana(\n",
    "  col1 INT,\n",
    "  col2 STRING\n",
    ")\n",
    "USING DELTA"
   ]
  },
  {
   "cell_type": "markdown",
   "metadata": {
    "application/vnd.databricks.v1+cell": {
     "cellMetadata": {
      "byteLimit": 2048000,
      "rowLimit": 10000
     },
     "inputWidgets": {},
     "nuid": "eddd0f23-7168-437a-9137-00b0d66b1278",
     "showTitle": false,
     "tableResultSettingsMap": {},
     "title": ""
    }
   },
   "source": [
    "## Lectura de bases"
   ]
  },
  {
   "cell_type": "code",
   "execution_count": 0,
   "metadata": {
    "application/vnd.databricks.v1+cell": {
     "cellMetadata": {
      "byteLimit": 2048000,
      "rowLimit": 10000
     },
     "inputWidgets": {},
     "nuid": "0a704692-c7ba-4b28-812a-5e69f152e97d",
     "showTitle": false,
     "tableResultSettingsMap": {},
     "title": ""
    }
   },
   "outputs": [],
   "source": [
    "base_clientes = spark.table('databricks_clase.prueba_schema.base_clientes')\n",
    "base_prediccion = spark.table('databricks_clase.prueba_schema.base_prediccion')"
   ]
  },
  {
   "cell_type": "code",
   "execution_count": 0,
   "metadata": {
    "application/vnd.databricks.v1+cell": {
     "cellMetadata": {
      "byteLimit": 2048000,
      "rowLimit": 10000
     },
     "inputWidgets": {},
     "nuid": "552301e6-16bf-4192-85b7-e4bcde87d0f6",
     "showTitle": false,
     "tableResultSettingsMap": {},
     "title": ""
    }
   },
   "outputs": [
    {
     "output_type": "stream",
     "name": "stdout",
     "output_type": "stream",
     "text": [
      "+-----+----+-----------+------------+-------------------+--------------+--------+--------+-------------+------------------+-------+-----------------+-----------------+-------------+-----------+-----------+---------+\n|   ID|EDAD|    TRABAJO|ESTADO_CIVIL|          EDUCACION|INCUMPLIMIENTO|VIVIENDA|PRESTAMO|TIPO_CONTACTO|PERIODO_AFILIACION|CAMPANA|NRO_DIAS_CONTACTO|CONTACTOS_PREVIOS|RESULT_PREVIO|    INGRESO|MONTO_DEUDA|  Celular|\n+-----+----+-----------+------------+-------------------+--------------+--------+--------+-------------+------------------+-------+-----------------+-----------------+-------------+-----------+-----------+---------+\n|27692|  38|     admin.|      single|  university.degree|            no|     yes|      no|     cellular|            202403|      2|              999|                0|  nonexistent|5265.038074|7281.213884|940823824|\n|27693|  26|    student|      single|           basic.9y|            no|      no|      no|     cellular|            202403|      4|              999|                0|  nonexistent|5202.038074|27799.74125|962270903|\n|27695|  30| management|     married|  university.degree|            no|     yes|      no|     cellular|            202403|      7|              999|                0|  nonexistent|4992.038074|16449.57443|937702335|\n|27696|  26|    student|      single|           basic.9y|            no|     yes|     yes|     cellular|            202403|      4|              999|                1|      failure|5034.038074|19259.17317|922670303|\n|27697|  28| technician|      single|  university.degree|            no|     yes|      no|     cellular|            202403|      2|              999|                0|  nonexistent|5078.038074|  25739.686|925262168|\n|27699|  30| management|     married|  university.degree|            no|      no|      no|     cellular|            202403|      1|              999|                0|  nonexistent|5066.038074|33008.99897|909632650|\n|27701|  26|     admin.|     married|  university.degree|            no|     yes|      no|     cellular|            202403|      1|              999|                0|  nonexistent|5144.038074|27152.90163|921618167|\n|27702|  28| technician|      single|  university.degree|            no|      no|      no|     cellular|            202403|      2|              999|                0|  nonexistent|4957.038074|11284.37274|987218357|\n|27703|  31|     admin.|      single|  university.degree|            no|     yes|      no|     cellular|            202403|      1|              999|                0|  nonexistent|5011.038074|  11013.916|968954284|\n|27705|  44|blue-collar|      single|professional.course|            no|      no|      no|     cellular|            202403|      1|              999|                0|  nonexistent|5018.038074|10296.74077|911466277|\n|27707|  30| management|     married|  university.degree|            no|     yes|      no|     cellular|            202403|      3|              999|                0|  nonexistent|4985.038074|21694.70795|948680193|\n|27708|  26|     admin.|     married|  university.degree|            no|     yes|      no|     cellular|            202403|      5|              999|                0|  nonexistent|5109.038074|16116.69598|968798145|\n|27709|  28| technician|      single|  university.degree|            no|     yes|      no|     cellular|            202403|      3|              999|                0|  nonexistent|5012.038074|30219.44494|976524755|\n|27712|  26|    student|      single|           basic.9y|            no|     yes|      no|     cellular|            202403|      2|              999|                0|  nonexistent|5054.038074|27434.90695|983243793|\n|27713|  26|     admin.|     married|  university.degree|            no|     yes|      no|     cellular|            202403|      2|              999|                0|  nonexistent|5092.038074|27178.24623|908737935|\n|27714|  70|    retired|    divorced|           basic.4y|            no|     yes|      no|     cellular|            202403|      3|              999|                0|  nonexistent|5300.038074|24547.42396|959948000|\n|27716|  61|     admin.|     married|  university.degree|            no|     yes|      no|     cellular|            202403|      6|              999|                0|  nonexistent|5065.038074|17800.20074|980863965|\n|27717|  26|    student|      single|           basic.9y|            no|      no|     yes|     cellular|            202403|      4|              999|                0|  nonexistent|5340.038074|10270.33188|911203997|\n|27719|  26|    student|      single|           basic.9y|            no|     yes|      no|     cellular|            202403|      3|              999|                0|  nonexistent|5084.038074|32133.26217|926530123|\n|27720|  30| management|     married|  university.degree|            no|      no|      no|     cellular|            202403|      3|              999|                0|  nonexistent|5280.038074|33321.28865|970797176|\n+-----+----+-----------+------------+-------------------+--------------+--------+--------+-------------+------------------+-------+-----------------+-----------------+-------------+-----------+-----------+---------+\nonly showing top 20 rows\n"
     ]
    }
   ],
   "source": [
    "base_clientes.show()"
   ]
  },
  {
   "cell_type": "code",
   "execution_count": 0,
   "metadata": {
    "application/vnd.databricks.v1+cell": {
     "cellMetadata": {
      "byteLimit": 2048000,
      "rowLimit": 10000
     },
     "inputWidgets": {},
     "nuid": "c4939653-e6b8-40d1-85b2-0dc399c141d2",
     "showTitle": false,
     "tableResultSettingsMap": {},
     "title": ""
    }
   },
   "outputs": [
    {
     "output_type": "stream",
     "name": "stdout",
     "output_type": "stream",
     "text": [
      "+---+-----------------+----------+\n| ID|PERIODO_MARCACION|ACEPTACION|\n+---+-----------------+----------+\n|  1|           202501|         0|\n|  2|           202501|         0|\n|  3|           202501|         0|\n|  4|           202501|         0|\n|  5|           202501|         0|\n|  6|           202501|         0|\n|  7|           202501|         0|\n|  8|           202501|         0|\n|  9|           202501|         0|\n| 11|           202501|         0|\n| 13|           202501|         0|\n| 15|           202501|         0|\n| 16|           202501|         0|\n| 18|           202501|         0|\n| 21|           202501|         0|\n| 24|           202501|         0|\n| 25|           202501|         0|\n| 28|           202501|         0|\n| 29|           202501|         0|\n| 31|           202501|         0|\n+---+-----------------+----------+\nonly showing top 20 rows\n"
     ]
    }
   ],
   "source": [
    "base_prediccion.show()"
   ]
  },
  {
   "cell_type": "markdown",
   "metadata": {
    "application/vnd.databricks.v1+cell": {
     "cellMetadata": {
      "byteLimit": 2048000,
      "rowLimit": 10000
     },
     "inputWidgets": {},
     "nuid": "28a5caa1-bcf8-4fee-a413-faac8a5ddbb4",
     "showTitle": false,
     "tableResultSettingsMap": {},
     "title": ""
    }
   },
   "source": [
    "## Exploración de los datos"
   ]
  },
  {
   "cell_type": "code",
   "execution_count": 0,
   "metadata": {
    "application/vnd.databricks.v1+cell": {
     "cellMetadata": {
      "byteLimit": 2048000,
      "rowLimit": 10000
     },
     "inputWidgets": {},
     "nuid": "c6ff6873-8cf9-43dc-9760-4a8ba1e79b98",
     "showTitle": false,
     "tableResultSettingsMap": {},
     "title": ""
    }
   },
   "outputs": [],
   "source": [
    "base_clientes_pandas = base_clientes.toPandas()\n",
    "base_prediccion_pandas = base_prediccion.toPandas()"
   ]
  },
  {
   "cell_type": "code",
   "execution_count": 0,
   "metadata": {
    "application/vnd.databricks.v1+cell": {
     "cellMetadata": {
      "byteLimit": 2048000,
      "rowLimit": 10000
     },
     "inputWidgets": {},
     "nuid": "76166df7-c976-4d0b-a907-4c8c4bd0f79c",
     "showTitle": false,
     "tableResultSettingsMap": {},
     "title": ""
    }
   },
   "outputs": [
    {
     "output_type": "execute_result",
     "data": {
      "text/html": [
       "<div>\n",
       "<style scoped>\n",
       "    .dataframe tbody tr th:only-of-type {\n",
       "        vertical-align: middle;\n",
       "    }\n",
       "\n",
       "    .dataframe tbody tr th {\n",
       "        vertical-align: top;\n",
       "    }\n",
       "\n",
       "    .dataframe thead th {\n",
       "        text-align: right;\n",
       "    }\n",
       "</style>\n",
       "<table border=\"1\" class=\"dataframe\">\n",
       "  <thead>\n",
       "    <tr style=\"text-align: right;\">\n",
       "      <th></th>\n",
       "      <th>ID</th>\n",
       "      <th>EDAD</th>\n",
       "      <th>PERIODO_AFILIACION</th>\n",
       "      <th>CAMPANA</th>\n",
       "      <th>NRO_DIAS_CONTACTO</th>\n",
       "      <th>CONTACTOS_PREVIOS</th>\n",
       "      <th>INGRESO</th>\n",
       "      <th>MONTO_DEUDA</th>\n",
       "      <th>Celular</th>\n",
       "    </tr>\n",
       "  </thead>\n",
       "  <tbody>\n",
       "    <tr>\n",
       "      <th>count</th>\n",
       "      <td>29441.000000</td>\n",
       "      <td>29441.000000</td>\n",
       "      <td>29441.000000</td>\n",
       "      <td>29441.000000</td>\n",
       "      <td>29441.000000</td>\n",
       "      <td>29441.000000</td>\n",
       "      <td>29441.000000</td>\n",
       "      <td>29441.000000</td>\n",
       "      <td>2.944100e+04</td>\n",
       "    </tr>\n",
       "    <tr>\n",
       "      <th>mean</th>\n",
       "      <td>20566.007099</td>\n",
       "      <td>40.392616</td>\n",
       "      <td>202407.181923</td>\n",
       "      <td>2.559696</td>\n",
       "      <td>962.502666</td>\n",
       "      <td>0.174926</td>\n",
       "      <td>3917.532231</td>\n",
       "      <td>19952.445440</td>\n",
       "      <td>1.222383e+09</td>\n",
       "    </tr>\n",
       "    <tr>\n",
       "      <th>std</th>\n",
       "      <td>11907.861668</td>\n",
       "      <td>12.545372</td>\n",
       "      <td>2.447448</td>\n",
       "      <td>2.751564</td>\n",
       "      <td>186.854468</td>\n",
       "      <td>0.497860</td>\n",
       "      <td>3936.598033</td>\n",
       "      <td>8403.697791</td>\n",
       "      <td>1.503708e+09</td>\n",
       "    </tr>\n",
       "    <tr>\n",
       "      <th>min</th>\n",
       "      <td>1.000000</td>\n",
       "      <td>5.000000</td>\n",
       "      <td>202403.000000</td>\n",
       "      <td>1.000000</td>\n",
       "      <td>0.000000</td>\n",
       "      <td>0.000000</td>\n",
       "      <td>1125.000000</td>\n",
       "      <td>6346.668502</td>\n",
       "      <td>9.000000e+08</td>\n",
       "    </tr>\n",
       "    <tr>\n",
       "      <th>25%</th>\n",
       "      <td>10187.000000</td>\n",
       "      <td>32.000000</td>\n",
       "      <td>202405.000000</td>\n",
       "      <td>1.000000</td>\n",
       "      <td>999.000000</td>\n",
       "      <td>0.000000</td>\n",
       "      <td>1323.738750</td>\n",
       "      <td>12260.656290</td>\n",
       "      <td>9.257158e+08</td>\n",
       "    </tr>\n",
       "    <tr>\n",
       "      <th>50%</th>\n",
       "      <td>20604.000000</td>\n",
       "      <td>38.000000</td>\n",
       "      <td>202406.000000</td>\n",
       "      <td>2.000000</td>\n",
       "      <td>999.000000</td>\n",
       "      <td>0.000000</td>\n",
       "      <td>1495.621568</td>\n",
       "      <td>19869.674050</td>\n",
       "      <td>9.516263e+08</td>\n",
       "    </tr>\n",
       "    <tr>\n",
       "      <th>75%</th>\n",
       "      <td>30856.000000</td>\n",
       "      <td>47.000000</td>\n",
       "      <td>202410.000000</td>\n",
       "      <td>3.000000</td>\n",
       "      <td>999.000000</td>\n",
       "      <td>0.000000</td>\n",
       "      <td>7211.614999</td>\n",
       "      <td>27639.347630</td>\n",
       "      <td>9.776477e+08</td>\n",
       "    </tr>\n",
       "    <tr>\n",
       "      <th>max</th>\n",
       "      <td>41188.000000</td>\n",
       "      <td>160.000000</td>\n",
       "      <td>202412.000000</td>\n",
       "      <td>56.000000</td>\n",
       "      <td>999.000000</td>\n",
       "      <td>6.000000</td>\n",
       "      <td>16463.000000</td>\n",
       "      <td>33653.594950</td>\n",
       "      <td>9.998266e+09</td>\n",
       "    </tr>\n",
       "  </tbody>\n",
       "</table>\n",
       "</div>"
      ],
      "text/plain": [
       "                 ID          EDAD  ...   MONTO_DEUDA       Celular\n",
       "count  29441.000000  29441.000000  ...  29441.000000  2.944100e+04\n",
       "mean   20566.007099     40.392616  ...  19952.445440  1.222383e+09\n",
       "std    11907.861668     12.545372  ...   8403.697791  1.503708e+09\n",
       "min        1.000000      5.000000  ...   6346.668502  9.000000e+08\n",
       "25%    10187.000000     32.000000  ...  12260.656290  9.257158e+08\n",
       "50%    20604.000000     38.000000  ...  19869.674050  9.516263e+08\n",
       "75%    30856.000000     47.000000  ...  27639.347630  9.776477e+08\n",
       "max    41188.000000    160.000000  ...  33653.594950  9.998266e+09\n",
       "\n",
       "[8 rows x 9 columns]"
      ]
     },
     "execution_count": 6,
     "metadata": {},
     "output_type": "execute_result"
    }
   ],
   "source": [
    "base_clientes_pandas.describe()"
   ]
  },
  {
   "cell_type": "code",
   "execution_count": 0,
   "metadata": {
    "application/vnd.databricks.v1+cell": {
     "cellMetadata": {
      "byteLimit": 2048000,
      "rowLimit": 10000
     },
     "inputWidgets": {},
     "nuid": "b09ee0e1-5486-4b0f-b1e4-999bd372c41e",
     "showTitle": false,
     "tableResultSettingsMap": {},
     "title": ""
    }
   },
   "outputs": [
    {
     "output_type": "execute_result",
     "data": {
      "text/html": [
       "<div>\n",
       "<style scoped>\n",
       "    .dataframe tbody tr th:only-of-type {\n",
       "        vertical-align: middle;\n",
       "    }\n",
       "\n",
       "    .dataframe tbody tr th {\n",
       "        vertical-align: top;\n",
       "    }\n",
       "\n",
       "    .dataframe thead th {\n",
       "        text-align: right;\n",
       "    }\n",
       "</style>\n",
       "<table border=\"1\" class=\"dataframe\">\n",
       "  <thead>\n",
       "    <tr style=\"text-align: right;\">\n",
       "      <th></th>\n",
       "      <th>ID</th>\n",
       "      <th>PERIODO_MARCACION</th>\n",
       "      <th>ACEPTACION</th>\n",
       "    </tr>\n",
       "  </thead>\n",
       "  <tbody>\n",
       "    <tr>\n",
       "      <th>count</th>\n",
       "      <td>29441.000000</td>\n",
       "      <td>29441.0</td>\n",
       "      <td>29441.000000</td>\n",
       "    </tr>\n",
       "    <tr>\n",
       "      <th>mean</th>\n",
       "      <td>20566.007099</td>\n",
       "      <td>202501.0</td>\n",
       "      <td>0.112190</td>\n",
       "    </tr>\n",
       "    <tr>\n",
       "      <th>std</th>\n",
       "      <td>11907.861668</td>\n",
       "      <td>0.0</td>\n",
       "      <td>0.315606</td>\n",
       "    </tr>\n",
       "    <tr>\n",
       "      <th>min</th>\n",
       "      <td>1.000000</td>\n",
       "      <td>202501.0</td>\n",
       "      <td>0.000000</td>\n",
       "    </tr>\n",
       "    <tr>\n",
       "      <th>25%</th>\n",
       "      <td>10187.000000</td>\n",
       "      <td>202501.0</td>\n",
       "      <td>0.000000</td>\n",
       "    </tr>\n",
       "    <tr>\n",
       "      <th>50%</th>\n",
       "      <td>20604.000000</td>\n",
       "      <td>202501.0</td>\n",
       "      <td>0.000000</td>\n",
       "    </tr>\n",
       "    <tr>\n",
       "      <th>75%</th>\n",
       "      <td>30856.000000</td>\n",
       "      <td>202501.0</td>\n",
       "      <td>0.000000</td>\n",
       "    </tr>\n",
       "    <tr>\n",
       "      <th>max</th>\n",
       "      <td>41188.000000</td>\n",
       "      <td>202501.0</td>\n",
       "      <td>1.000000</td>\n",
       "    </tr>\n",
       "  </tbody>\n",
       "</table>\n",
       "</div>"
      ],
      "text/plain": [
       "                 ID  PERIODO_MARCACION    ACEPTACION\n",
       "count  29441.000000            29441.0  29441.000000\n",
       "mean   20566.007099           202501.0      0.112190\n",
       "std    11907.861668                0.0      0.315606\n",
       "min        1.000000           202501.0      0.000000\n",
       "25%    10187.000000           202501.0      0.000000\n",
       "50%    20604.000000           202501.0      0.000000\n",
       "75%    30856.000000           202501.0      0.000000\n",
       "max    41188.000000           202501.0      1.000000"
      ]
     },
     "execution_count": 7,
     "metadata": {},
     "output_type": "execute_result"
    }
   ],
   "source": [
    "base_prediccion_pandas.describe()"
   ]
  },
  {
   "cell_type": "code",
   "execution_count": 0,
   "metadata": {
    "application/vnd.databricks.v1+cell": {
     "cellMetadata": {
      "byteLimit": 2048000,
      "rowLimit": 10000
     },
     "inputWidgets": {},
     "nuid": "d9f722f8-8d7c-40a5-ac30-ac014adbc05d",
     "showTitle": false,
     "tableResultSettingsMap": {},
     "title": ""
    }
   },
   "outputs": [
    {
     "output_type": "execute_result",
     "data": {
      "text/html": [
       "<div>\n",
       "<style scoped>\n",
       "    .dataframe tbody tr th:only-of-type {\n",
       "        vertical-align: middle;\n",
       "    }\n",
       "\n",
       "    .dataframe tbody tr th {\n",
       "        vertical-align: top;\n",
       "    }\n",
       "\n",
       "    .dataframe thead th {\n",
       "        text-align: right;\n",
       "    }\n",
       "</style>\n",
       "<table border=\"1\" class=\"dataframe\">\n",
       "  <thead>\n",
       "    <tr style=\"text-align: right;\">\n",
       "      <th></th>\n",
       "      <th>TRABAJO</th>\n",
       "      <th>ESTADO_CIVIL</th>\n",
       "      <th>EDUCACION</th>\n",
       "      <th>INCUMPLIMIENTO</th>\n",
       "      <th>VIVIENDA</th>\n",
       "      <th>PRESTAMO</th>\n",
       "      <th>TIPO_CONTACTO</th>\n",
       "      <th>RESULT_PREVIO</th>\n",
       "    </tr>\n",
       "  </thead>\n",
       "  <tbody>\n",
       "    <tr>\n",
       "      <th>count</th>\n",
       "      <td>29441</td>\n",
       "      <td>29441</td>\n",
       "      <td>29441</td>\n",
       "      <td>29441</td>\n",
       "      <td>29441</td>\n",
       "      <td>29441</td>\n",
       "      <td>29441</td>\n",
       "      <td>29441</td>\n",
       "    </tr>\n",
       "    <tr>\n",
       "      <th>unique</th>\n",
       "      <td>12</td>\n",
       "      <td>10</td>\n",
       "      <td>8</td>\n",
       "      <td>3</td>\n",
       "      <td>3</td>\n",
       "      <td>3</td>\n",
       "      <td>1</td>\n",
       "      <td>3</td>\n",
       "    </tr>\n",
       "    <tr>\n",
       "      <th>top</th>\n",
       "      <td>admin.</td>\n",
       "      <td>married</td>\n",
       "      <td>university.degree</td>\n",
       "      <td>no</td>\n",
       "      <td>yes</td>\n",
       "      <td>no</td>\n",
       "      <td>cellular</td>\n",
       "      <td>nonexistent</td>\n",
       "    </tr>\n",
       "    <tr>\n",
       "      <th>freq</th>\n",
       "      <td>7457</td>\n",
       "      <td>17713</td>\n",
       "      <td>8659</td>\n",
       "      <td>23314</td>\n",
       "      <td>15456</td>\n",
       "      <td>24322</td>\n",
       "      <td>29441</td>\n",
       "      <td>25383</td>\n",
       "    </tr>\n",
       "  </tbody>\n",
       "</table>\n",
       "</div>"
      ],
      "text/plain": [
       "       TRABAJO ESTADO_CIVIL  ... TIPO_CONTACTO RESULT_PREVIO\n",
       "count    29441        29441  ...         29441         29441\n",
       "unique      12           10  ...             1             3\n",
       "top     admin.      married  ...      cellular   nonexistent\n",
       "freq      7457        17713  ...         29441         25383\n",
       "\n",
       "[4 rows x 8 columns]"
      ]
     },
     "execution_count": 8,
     "metadata": {},
     "output_type": "execute_result"
    }
   ],
   "source": [
    "base_clientes_pandas.describe(include=\"object\")"
   ]
  },
  {
   "cell_type": "code",
   "execution_count": 0,
   "metadata": {
    "application/vnd.databricks.v1+cell": {
     "cellMetadata": {
      "byteLimit": 2048000,
      "rowLimit": 10000
     },
     "inputWidgets": {},
     "nuid": "70729255-d273-4e36-97f2-a38abd601107",
     "showTitle": false,
     "tableResultSettingsMap": {},
     "title": ""
    }
   },
   "outputs": [
    {
     "output_type": "stream",
     "name": "stdout",
     "output_type": "stream",
     "text": [
      "admin.           7457\nblue-collar      6623\ntechnician       4824\nservices         2819\nmanagement       2079\nretired          1247\nself-employed    1038\nentrepreneur     1029\nhousemaid         753\nunemployed        723\nstudent           609\nunknown           240\nName: TRABAJO, dtype: int64\nmarried      17713\nsingle        8185\ndivorced      3245\n married       118\nunknown         58\nsinggle         54\nmarrid          30\ndivorced        23\nsingle          10\nd_ivorced        5\nName: ESTADO_CIVIL, dtype: int64\nuniversity.degree      8659\nhigh.school            6757\nbasic.9y               4362\nprofessional.course    3798\nbasic.4y               2972\nbasic.6y               1642\nunknown                1235\nilliterate               16\nName: EDUCACION, dtype: int64\nno         23314\nunknown     6124\nyes            3\nName: INCUMPLIMIENTO, dtype: int64\nyes        15456\nno         13293\nunknown      692\nName: VIVIENDA, dtype: int64\nno         24322\nyes         4427\nunknown      692\nName: PRESTAMO, dtype: int64\ncellular    29441\nName: TIPO_CONTACTO, dtype: int64\nnonexistent    25383\nfailure         3072\nsuccess          986\nName: RESULT_PREVIO, dtype: int64\n"
     ]
    }
   ],
   "source": [
    "for i in ['TRABAJO', 'ESTADO_CIVIL', 'EDUCACION', 'INCUMPLIMIENTO', 'VIVIENDA', 'PRESTAMO', 'TIPO_CONTACTO', 'RESULT_PREVIO']:\n",
    "    print(base_clientes_pandas[i].value_counts())"
   ]
  },
  {
   "cell_type": "code",
   "execution_count": 0,
   "metadata": {
    "application/vnd.databricks.v1+cell": {
     "cellMetadata": {
      "byteLimit": 2048000,
      "rowLimit": 10000
     },
     "inputWidgets": {},
     "nuid": "8d178843-7150-4d0a-9923-b3556be5d973",
     "showTitle": false,
     "tableResultSettingsMap": {},
     "title": ""
    }
   },
   "outputs": [
    {
     "output_type": "execute_result",
     "data": {
      "text/plain": [
       "array(['single', 'married', 'divorced', ' married', 'singgle ', 'unknown',\n",
       "       'single ', 'marrid', 'divorced ', 'd_ivorced'], dtype=object)"
      ]
     },
     "execution_count": 10,
     "metadata": {},
     "output_type": "execute_result"
    }
   ],
   "source": [
    "base_clientes_pandas.ESTADO_CIVIL.unique()"
   ]
  },
  {
   "cell_type": "markdown",
   "metadata": {
    "application/vnd.databricks.v1+cell": {
     "cellMetadata": {
      "byteLimit": 2048000,
      "rowLimit": 10000
     },
     "inputWidgets": {},
     "nuid": "8dafb7c4-083d-4d0a-bf5d-bdf753510caa",
     "showTitle": false,
     "tableResultSettingsMap": {},
     "title": ""
    }
   },
   "source": [
    "## Limpieza de los datos"
   ]
  },
  {
   "cell_type": "code",
   "execution_count": 0,
   "metadata": {
    "application/vnd.databricks.v1+cell": {
     "cellMetadata": {
      "byteLimit": 2048000,
      "rowLimit": 10000
     },
     "inputWidgets": {},
     "nuid": "f6e792ee-37f0-4720-b223-5c010565219a",
     "showTitle": false,
     "tableResultSettingsMap": {},
     "title": ""
    }
   },
   "outputs": [],
   "source": [
    "from pyspark.sql.functions import col, when"
   ]
  },
  {
   "cell_type": "code",
   "execution_count": 0,
   "metadata": {
    "application/vnd.databricks.v1+cell": {
     "cellMetadata": {
      "byteLimit": 2048000,
      "rowLimit": 10000
     },
     "inputWidgets": {},
     "nuid": "d6c4d54b-493f-4b96-886a-8e5b72afb919",
     "showTitle": false,
     "tableResultSettingsMap": {},
     "title": ""
    }
   },
   "outputs": [],
   "source": [
    "# Eliminamos la columna \"TIPO_CONTACTO\" porque no es informativa:\n",
    "\n",
    "base_clientes = base_clientes.drop('TIPO_CONTACTO')\n",
    "\n",
    "# Cambiamos las etiquetas de la variable \"ESTADO_CIVIL\" por error en calidad de datos:\n",
    "\n",
    "base_clientes = base_clientes.withColumn(\n",
    "    \"ESTADO_CIVIL\",\n",
    "    when(col(\"ESTADO_CIVIL\") == \"singgle \", \"single\")\n",
    "    .when(col(\"ESTADO_CIVIL\") == \" married\", \"married\")\n",
    "    .when(col(\"ESTADO_CIVIL\") == \"single \", \"single\")\n",
    "    .when(col(\"ESTADO_CIVIL\") == \"d_ivorced\", \"divorced\")\n",
    "    .when(col(\"ESTADO_CIVIL\") == \"divorced \", \"divorced\")\n",
    "    .when(col(\"ESTADO_CIVIL\") == \"marrid\", \"married\")\n",
    "    .otherwise(col(\"ESTADO_CIVIL\"))\n",
    ")\n"
   ]
  },
  {
   "cell_type": "markdown",
   "metadata": {
    "application/vnd.databricks.v1+cell": {
     "cellMetadata": {
      "byteLimit": 2048000,
      "rowLimit": 10000
     },
     "inputWidgets": {},
     "nuid": "dbb53523-fde1-4abe-9913-a9fe75077efe",
     "showTitle": false,
     "tableResultSettingsMap": {},
     "title": ""
    }
   },
   "source": [
    "## Exportación de las tablas"
   ]
  },
  {
   "cell_type": "code",
   "execution_count": 0,
   "metadata": {
    "application/vnd.databricks.v1+cell": {
     "cellMetadata": {
      "byteLimit": 2048000,
      "rowLimit": 10000
     },
     "inputWidgets": {},
     "nuid": "4f2f39fa-08f7-4b64-8650-118eea1d7d7b",
     "showTitle": false,
     "tableResultSettingsMap": {},
     "title": ""
    }
   },
   "outputs": [],
   "source": [
    "base_clientes.write.mode(\"overwrite\").saveAsTable('databricks_clase.prueba_schema.base_clientes')"
   ]
  },
  {
   "cell_type": "code",
   "execution_count": 0,
   "metadata": {
    "application/vnd.databricks.v1+cell": {
     "cellMetadata": {
      "byteLimit": 2048000,
      "rowLimit": 10000
     },
     "inputWidgets": {},
     "nuid": "21404ed5-d71e-461e-b224-288e8dde6acf",
     "showTitle": false,
     "tableResultSettingsMap": {},
     "title": ""
    }
   },
   "outputs": [],
   "source": [
    "# Vemos el historial de la tabla\n",
    "\n",
    "from delta.tables import DeltaTable\n",
    "base_clientes_delta = DeltaTable.forName(spark, \"databricks_clase.prueba_schema.base_clientes\")"
   ]
  },
  {
   "cell_type": "code",
   "execution_count": 0,
   "metadata": {
    "application/vnd.databricks.v1+cell": {
     "cellMetadata": {
      "byteLimit": 2048000,
      "rowLimit": 10000
     },
     "inputWidgets": {},
     "nuid": "446a017d-6b7b-4e67-9a18-32c0173b9d02",
     "showTitle": false,
     "tableResultSettingsMap": {},
     "title": ""
    }
   },
   "outputs": [
    {
     "output_type": "stream",
     "name": "stdout",
     "output_type": "stream",
     "text": [
      "+-------+-------------------+----------------+--------------------+--------------------+--------------------+----+------------------+--------------------+-----------+-----------------+-------------+--------------------+------------+--------------------+\n|version|          timestamp|          userId|            userName|           operation| operationParameters| job|          notebook|           clusterId|readVersion|   isolationLevel|isBlindAppend|    operationMetrics|userMetadata|          engineInfo|\n+-------+-------------------+----------------+--------------------+--------------------+--------------------+----+------------------+--------------------+-----------+-----------------+-------------+--------------------+------------+--------------------+\n|      1|2025-03-03 03:08:05|8926564628570346|ursula.cotrina27@...|CREATE OR REPLACE...|{partitionBy -> [...|NULL|{3543531657336052}|0207-032915-4307u1zf|          0|WriteSerializable|        false|{numFiles -> 1, n...|        NULL|Databricks-Runtim...|\n|      0|2025-03-01 03:33:56|8926564628570346|ursula.cotrina27@...|CREATE TABLE AS S...|{partitionBy -> [...|NULL|              NULL|                NULL|       NULL|WriteSerializable|         true|{numFiles -> 1, n...|        NULL|Databricks-Runtim...|\n+-------+-------------------+----------------+--------------------+--------------------+--------------------+----+------------------+--------------------+-----------+-----------------+-------------+--------------------+------------+--------------------+\n\n"
     ]
    }
   ],
   "source": [
    "base_clientes_delta.history().show()"
   ]
  },
  {
   "cell_type": "code",
   "execution_count": 0,
   "metadata": {
    "application/vnd.databricks.v1+cell": {
     "cellMetadata": {},
     "inputWidgets": {},
     "nuid": "464294df-7c7d-4666-9ce3-ad008546e88d",
     "showTitle": false,
     "tableResultSettingsMap": {},
     "title": ""
    }
   },
   "outputs": [],
   "source": []
  }
 ],
 "metadata": {
  "application/vnd.databricks.v1+notebook": {
   "computePreferences": null,
   "dashboards": [],
   "environmentMetadata": {
    "base_environment": "",
    "environment_version": "2"
   },
   "language": "python",
   "notebookMetadata": {
    "mostRecentlyExecutedCommandWithImplicitDF": {
     "commandId": 5710903027237231,
     "dataframes": [
      "_sqldf"
     ]
    },
    "pythonIndentUnit": 4
   },
   "notebookName": "Limpieza de datos",
   "widgets": {}
  },
  "language_info": {
   "name": "python"
  }
 },
 "nbformat": 4,
 "nbformat_minor": 0
}